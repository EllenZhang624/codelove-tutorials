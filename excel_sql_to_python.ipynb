{
 "cells": [
  {
   "cell_type": "code",
   "execution_count": 225,
   "metadata": {
    "collapsed": false
   },
   "outputs": [],
   "source": [
    "import pandas as pd\n",
    "import requests\n",
    "from bs4 import BeautifulSoup\n",
    "import re"
   ]
  },
  {
   "cell_type": "code",
   "execution_count": 226,
   "metadata": {
    "collapsed": false,
    "scrolled": true
   },
   "outputs": [
    {
     "name": "stdout",
     "output_type": "stream",
     "text": [
      "[{'Rank': '1', 'US$': '101,994', 'Country': 'Luxembourg'}, {'Rank': '2', 'US$': '80,603', 'Country': 'Switzerland'}, {'Rank': '3', 'US$': '74,598', 'Country': 'Norway'}, {'Rank': '4', 'US$': '68,940', 'Country': 'Qatar'}, {'Rank': '5', 'US$': '61,206', 'Country': 'Ireland'}, {'Rank': '6', 'US$': '56,084', 'Country': 'United States'}, {'Rank': '7', 'US$': '52,888', 'Country': 'Singapore'}, {'Rank': '8', 'US$': '52,139', 'Country': 'Denmark'}, {'Rank': '9', 'US$': '51,181', 'Country': 'Australia'}, {'Rank': '10', 'US$': '50,277', 'Country': 'Iceland'}, {'Rank': '11', 'US$': '50,050', 'Country': 'Sweden'}, {'Rank': '12', 'US$': '49,615', 'Country': 'San Marino'}, {'Rank': '13', 'US$': '43,902', 'Country': 'United Kingdom'}, {'Rank': '14', 'US$': '43,724', 'Country': 'Austria'}, {'Rank': '15', 'US$': '43,603', 'Country': 'Netherlands'}, {'Rank': '16', 'US$': '43,413', 'Country': 'Canada'}, {'Rank': '17', 'US$': '42,413', 'Country': 'Finland'}, {'Rank': '—', 'US$': '42,295', 'Country': 'Hong Kong'}, {'Rank': '18', 'US$': '40,952', 'Country': 'Germany'}, {'Rank': '19', 'US$': '40,529', 'Country': 'Belgium'}, {'Rank': '20', 'US$': '38,650', 'Country': 'United Arab Emirates'}, {'Rank': '21', 'US$': '37,653', 'Country': 'France'}, {'Rank': '22', 'US$': '37,066', 'Country': 'New Zealand'}, {'Rank': '23', 'US$': '35,743', 'Country': 'Israel'}, {'Rank': '24', 'US$': '32,479', 'Country': 'Japan'}, {'Rank': '25', 'US$': '30,993', 'Country': 'Brunei'}, {'Rank': '26', 'US$': '29,867', 'Country': 'Italy'}, {'Rank': '—', 'US$': '29,620', 'Country': 'Puerto Rico'}, {'Rank': '27', 'US$': '27,756', 'Country': 'Kuwait'}, {'Rank': '28', 'US$': '27,222', 'Country': 'South Korea'}, {'Rank': '29', 'US$': '26,823', 'Country': 'Spain'}, {'Rank': '30', 'US$': '24,310', 'Country': 'Bahamas'}, {'Rank': '31', 'US$': '24,058', 'Country': 'Bahrain'}, {'Rank': '32', 'US$': '22,822', 'Country': 'Cyprus'}, {'Rank': '33', 'US$': '22,713', 'Country': 'Malta'}, {'Rank': '34', 'US$': '22,263', 'Country': 'Taiwan'}, {'Rank': '35', 'US$': '20,747', 'Country': 'Slovenia'}, {'Rank': '36', 'US$': '20,583', 'Country': 'Saudi Arabia'}, {'Rank': '37', 'US$': '19,117', 'Country': 'Portugal'}, {'Rank': '38', 'US$': '18,143', 'Country': 'Trinidad and Tobago'}, {'Rank': '39', 'US$': '17,988', 'Country': 'Greece'}, {'Rank': '40', 'US$': '17,570', 'Country': 'Czech Republic'}, {'Rank': '41', 'US$': '17,288', 'Country': 'Estonia'}, {'Rank': '42', 'US$': '17,287', 'Country': 'Equatorial Guinea'}, {'Rank': '43', 'US$': '16,699', 'Country': 'Oman'}, {'Rank': '44', 'US$': '16,459', 'Country': 'Saint Kitts and Nevis'}, {'Rank': '45', 'US$': '16,070', 'Country': 'Palau'}, {'Rank': '46', 'US$': '15,979', 'Country': 'Slovakia'}, {'Rank': '47', 'US$': '15,677', 'Country': 'Barbados'}, {'Rank': '48', 'US$': '15,547', 'Country': 'Uruguay'}, {'Rank': '49', 'US$': '14,776', 'Country': 'Seychelles'}, {'Rank': '50', 'US$': '14,617', 'Country': 'Argentina'}, {'Rank': '51', 'US$': '14,180', 'Country': 'Lithuania'}, {'Rank': '52', 'US$': '14,100', 'Country': 'Antigua and Barbuda'}, {'Rank': '53', 'US$': '13,573', 'Country': 'Latvia'}, {'Rank': '54', 'US$': '13,341', 'Country': 'Chile'}, {'Rank': '55', 'US$': '13,013', 'Country': 'Panama'}, {'Rank': '56', 'US$': '12,492', 'Country': 'Poland'}, {'Rank': '57', 'US$': '12,240', 'Country': 'Hungary'}, {'Rank': '58', 'US$': '11,573', 'Country': 'Croatia'}, {'Rank': '59', 'US$': '11,157', 'Country': 'Lebanon'}, {'Rank': '60', 'US$': '10,905', 'Country': 'Costa Rica'}, {'Rank': '61', 'US$': '10,426', 'Country': 'Kazakhstan'}, {'Rank': '—', 'US$': '10,136', 'Country': 'World[7]'}, {'Rank': '62', 'US$': '9,501', 'Country': 'Malaysia'}, {'Rank': '63', 'US$': '9,452', 'Country': 'Mexico'}, {'Rank': '64', 'US$': '9,243', 'Country': 'Russia'}, {'Rank': '65', 'US$': '9,231', 'Country': 'Suriname'}, {'Rank': '66', 'US$': '9,222', 'Country': 'Grenada'}, {'Rank': '67', 'US$': '9,186', 'Country': 'Turkey'}, {'Rank': '68', 'US$': '9,142', 'Country': 'Mauritius'}, {'Rank': '69', 'US$': '8,969', 'Country': 'Maldives'}, {'Rank': '70', 'US$': '8,956', 'Country': 'Romania'}, {'Rank': '71', 'US$': '8,670', 'Country': 'Brazil'}, {'Rank': '72', 'US$': '8,494', 'Country': 'Venezuela'}, {'Rank': '73', 'US$': '8,277', 'Country': 'Saint Lucia'}, {'Rank': '74', 'US$': '8,141', 'Country': 'China'}, {'Rank': '75', 'US$': '7,692', 'Country': 'Gabon'}, {'Rank': '76', 'US$': '7,312', 'Country': 'Dominica'}, {'Rank': '77', 'US$': '6,843', 'Country': 'Bulgaria'}, {'Rank': '78', 'US$': '6,771', 'Country': 'Botswana'}, {'Rank': '79', 'US$': '6,733', 'Country': 'Dominican Republic'}, {'Rank': '80', 'US$': '6,706', 'Country': 'Saint Vincent and the Grenadines'}, {'Rank': '81', 'US$': '6,655', 'Country': 'Turkmenistan'}, {'Rank': '82', 'US$': '6,409', 'Country': 'Montenegro'}, {'Rank': '83', 'US$': '6,276', 'Country': 'Libya'}, {'Rank': '84', 'US$': '6,196', 'Country': 'Ecuador'}, {'Rank': '85', 'US$': '6,167', 'Country': 'Peru'}, {'Rank': '86', 'US$': '6,060', 'Country': 'Colombia'}, {'Rank': '87', 'US$': '5,749', 'Country': 'Belarus'}, {'Rank': '88', 'US$': '5,742', 'Country': 'Thailand'}, {'Rank': '89', 'US$': '5,739', 'Country': 'Azerbaijan'}, {'Rank': '90', 'US$': '5,727', 'Country': 'South Africa'}, {'Rank': '91', 'US$': '5,120', 'Country': 'Serbia'}, {'Rank': '92', 'US$': '5,053', 'Country': 'Jamaica'}, {'Rank': '93', 'US$': '5,041', 'Country': 'Namibia'}, {'Rank': '94', 'US$': '4,935', 'Country': 'Micronesia'}, {'Rank': '95', 'US$': '4,926', 'Country': 'Fiji'}, {'Rank': '96', 'US$': '4,907', 'Country': 'Iran'}, {'Rank': '97', 'US$': '4,871', 'Country': 'Macedonia, Republic of'}, {'Rank': '98', 'US$': '4,785', 'Country': 'Belize'}, {'Rank': '99', 'US$': '4,696', 'Country': 'Iraq'}, {'Rank': '100', 'US$': '4,341', 'Country': 'Samoa'}, {'Rank': '101', 'US$': '4,219', 'Country': 'El Salvador'}, {'Rank': '102', 'US$': '4,175', 'Country': 'Algeria'}, {'Rank': '103', 'US$': '4,140', 'Country': 'Bosnia and Herzegovina'}, {'Rank': '104', 'US$': '4,125', 'Country': 'Guyana'}, {'Rank': '105', 'US$': '4,110', 'Country': 'Tonga'}, {'Rank': '106', 'US$': '4,102', 'Country': 'Paraguay'}, {'Rank': '107', 'US$': '3,976', 'Country': 'Jordan'}, {'Rank': '108', 'US$': '3,946', 'Country': 'Mongolia'}, {'Rank': '109', 'US$': '3,945', 'Country': 'Albania'}, {'Rank': '110', 'US$': '3,923', 'Country': 'Tunisia'}, {'Rank': '111', 'US$': '3,922', 'Country': 'Guatemala'}, {'Rank': '112', 'US$': '3,849', 'Country': 'Sri Lanka'}, {'Rank': '113', 'US$': '3,754', 'Country': 'Georgia'}, {'Rank': '114', 'US$': '3,710', 'Country': 'Egypt'}, {'Rank': '115', 'US$': '3,597', 'Country': 'Swaziland'}, {'Rank': '116', 'US$': '3,521', 'Country': 'Armenia'}, {'Rank': '117', 'US$': '3,380', 'Country': 'Marshall Islands'}, {'Rank': '118', 'US$': '3,362', 'Country': 'Indonesia'}, {'Rank': '119', 'US$': '3,099', 'Country': 'Bolivia'}, {'Rank': '120', 'US$': '3,073', 'Country': 'Angola'}, {'Rank': '121', 'US$': '3,056', 'Country': 'Cape Verde'}, {'Rank': '122', 'US$': '3,015', 'Country': 'Tuvalu'}, {'Rank': '123', 'US$': '3,002', 'Country': 'Philippines'}, {'Rank': '124', 'US$': '2,862', 'Country': 'Morocco'}, {'Rank': '125', 'US$': '2,763', 'Country': 'Nigeria'}, {'Rank': '126', 'US$': '2,747', 'Country': 'Vanuatu'}, {'Rank': '127', 'US$': '2,745', 'Country': 'Papua New Guinea'}, {'Rank': '128', 'US$': '2,590', 'Country': 'Bhutan'}, {'Rank': '129', 'US$': '2,530', 'Country': 'Honduras'}, {'Rank': '130', 'US$': '2,244', 'Country': 'East Timor'}, {'Rank': '131', 'US$': '2,119', 'Country': 'Sudan'}, {'Rank': '132', 'US$': '2,125', 'Country': 'Ukraine'}, {'Rank': '133', 'US$': '2,115', 'Country': 'Uzbekistan'}, {'Rank': '134', 'US$': '2,088', 'Country': 'Vietnam'}, {'Rank': '135', 'US$': '2,024', 'Country': 'Congo, Republic of the'}, {'Rank': '136', 'US$': '2,024', 'Country': 'Nicaragua'}, {'Rank': '137', 'US$': '1,821', 'Country': 'Moldova'}, {'Rank': '138', 'US$': '1,788', 'Country': 'Djibouti'}, {'Rank': '139', 'US$': '1,787', 'Country': 'Laos'}, {'Rank': '140', 'US$': '1,657', 'Country': 'Solomon Islands'}, {'Rank': '141', 'US$': '1,604', 'Country': 'India'}, {'Rank': '142', 'US$': '1,569', 'Country': 'Sao Tome and Principe'}, {'Rank': '143', 'US$': '1,434', 'Country': 'Kenya'}, {'Rank': '144', 'US$': '1,428', 'Country': 'Pakistan'}, {'Rank': '145', 'US$': '1,410', 'Country': 'Kiribati'}, {'Rank': '146', 'US$': '1,402', 'Country': 'Ghana'}, {'Rank': '147', 'US$': '1,352', 'Country': 'Zambia'}, {'Rank': '148', 'US$': '1,334', 'Country': 'Yemen'}, {'Rank': '149', 'US$': '1,325', 'Country': \"Côte d'Ivoire\"}, {'Rank': '150', 'US$': '1,312', 'Country': 'Mauritania'}, {'Rank': '151', 'US$': '1,292', 'Country': 'Bangladesh'}, {'Rank': '152', 'US$': '1,256', 'Country': 'Cameroon'}, {'Rank': '153', 'US$': '1,212', 'Country': 'Myanmar'}, {'Rank': '154', 'US$': '1,144', 'Country': 'Cambodia'}, {'Rank': '155', 'US$': '1,113', 'Country': 'Kyrgyzstan'}, {'Rank': '156', 'US$': '1,057', 'Country': 'Lesotho'}, {'Rank': '157', 'US$': '1,002', 'Country': 'Zimbabwe'}, {'Rank': '158', 'US$': '943', 'Country': 'Chad'}, {'Rank': '159', 'US$': '942', 'Country': 'Tanzania'}, {'Rank': '160', 'US$': '922', 'Country': 'Tajikistan'}, {'Rank': '161', 'US$': '913', 'Country': 'Senegal'}, {'Rank': '162', 'US$': '805', 'Country': 'Nepal'}, {'Rank': '163', 'US$': '802', 'Country': 'Mali'}, {'Rank': '164', 'US$': '785', 'Country': 'South Sudan'}, {'Rank': '165', 'US$': '780', 'Country': 'Benin'}, {'Rank': '166', 'US$': '751', 'Country': 'Haiti'}, {'Rank': '167', 'US$': '736', 'Country': 'Comoros'}, {'Rank': '168', 'US$': '732', 'Country': 'Rwanda'}, {'Rank': '169', 'US$': '695', 'Country': 'Eritrea'}, {'Rank': '170', 'US$': '687', 'Country': 'Ethiopia'}, {'Rank': '171', 'US$': '659', 'Country': 'Sierra Leone'}, {'Rank': '172', 'US$': '620', 'Country': 'Uganda'}, {'Rank': '173', 'US$': '615', 'Country': 'Burkina Faso'}, {'Rank': '174', 'US$': '600', 'Country': 'Afghanistan'}, {'Rank': '175', 'US$': '595', 'Country': 'Guinea-Bissau'}, {'Rank': '176', 'US$': '569', 'Country': 'Togo'}, {'Rank': '177', 'US$': '542', 'Country': 'Guinea'}, {'Rank': '178', 'US$': '535', 'Country': 'Mozambique'}, {'Rank': '179', 'US$': '476', 'Country': 'Congo, Democratic Republic of the'}, {'Rank': '180', 'US$': '474', 'Country': 'Liberia'}, {'Rank': '181', 'US$': '451', 'Country': 'Gambia, The'}, {'Rank': '182', 'US$': '405', 'Country': 'Niger'}, {'Rank': '183', 'US$': '402', 'Country': 'Madagascar'}, {'Rank': '184', 'US$': '354', 'Country': 'Malawi'}, {'Rank': '185', 'US$': '335', 'Country': 'Central African Republic'}, {'Rank': '186', 'US$': '306', 'Country': 'Burundi'}]\n"
     ]
    }
   ],
   "source": [
    "r = requests.get('https://en.wikipedia.org/wiki/List_of_countries_by_GDP_(nominal)_per_capita')\n",
    "gdptable = r.text\n",
    "soup = BeautifulSoup(gdptable, 'lxml')\n",
    "table = soup.find('table', attrs = {\"class\" :\"wikitable sortable\"})\n",
    "\n",
    "\n",
    "theads=[]\n",
    "for tx in table.findAll('th'):\n",
    "    theads.append(tx.text)\n",
    "\n",
    "data =[]\n",
    "for rows in table.findAll('tr'):\n",
    "        row={}\n",
    "        i=0\n",
    "        for cell in rows.findAll('td'):\n",
    "            row[theads[i]]=re.sub('\\xa0', '',cell.text) && re.sub('—')\n",
    "            i+=1\n",
    "        if len(row)!=0:\n",
    "            data.append(row)\n",
    "\n",
    "print(data)\n",
    "\n",
    "#http://arijitgeek.me/index.php/2016/11/18/wiki-table-python-script-to-fetch-tables-from-wikipedia-to-pandas-dataframe/\n"
   ]
  },
  {
   "cell_type": "code",
   "execution_count": 227,
   "metadata": {
    "collapsed": false,
    "scrolled": true
   },
   "outputs": [],
   "source": [
    "gdp = pd.DataFrame(data)"
   ]
  },
  {
   "cell_type": "code",
   "execution_count": 228,
   "metadata": {
    "collapsed": false
   },
   "outputs": [
    {
     "data": {
      "text/html": [
       "<div>\n",
       "<table border=\"1\" class=\"dataframe\">\n",
       "  <thead>\n",
       "    <tr style=\"text-align: right;\">\n",
       "      <th></th>\n",
       "      <th>Country</th>\n",
       "      <th>Rank</th>\n",
       "      <th>US$</th>\n",
       "    </tr>\n",
       "  </thead>\n",
       "  <tbody>\n",
       "    <tr>\n",
       "      <th>0</th>\n",
       "      <td>Luxembourg</td>\n",
       "      <td>1</td>\n",
       "      <td>101,994</td>\n",
       "    </tr>\n",
       "    <tr>\n",
       "      <th>1</th>\n",
       "      <td>Switzerland</td>\n",
       "      <td>2</td>\n",
       "      <td>80,603</td>\n",
       "    </tr>\n",
       "    <tr>\n",
       "      <th>2</th>\n",
       "      <td>Norway</td>\n",
       "      <td>3</td>\n",
       "      <td>74,598</td>\n",
       "    </tr>\n",
       "    <tr>\n",
       "      <th>3</th>\n",
       "      <td>Qatar</td>\n",
       "      <td>4</td>\n",
       "      <td>68,940</td>\n",
       "    </tr>\n",
       "    <tr>\n",
       "      <th>4</th>\n",
       "      <td>Ireland</td>\n",
       "      <td>5</td>\n",
       "      <td>61,206</td>\n",
       "    </tr>\n",
       "  </tbody>\n",
       "</table>\n",
       "</div>"
      ],
      "text/plain": [
       "       Country Rank      US$\n",
       "0   Luxembourg    1  101,994\n",
       "1  Switzerland    2   80,603\n",
       "2       Norway    3   74,598\n",
       "3        Qatar    4   68,940\n",
       "4      Ireland    5   61,206"
      ]
     },
     "execution_count": 228,
     "metadata": {},
     "output_type": "execute_result"
    }
   ],
   "source": [
    "gdp.head()"
   ]
  },
  {
   "cell_type": "code",
   "execution_count": 229,
   "metadata": {
    "collapsed": false
   },
   "outputs": [],
   "source": [
    "gdp = gdp.rename(columns = {'US$':'gdp_per_capita'})"
   ]
  },
  {
   "cell_type": "code",
   "execution_count": 230,
   "metadata": {
    "collapsed": false
   },
   "outputs": [
    {
     "data": {
      "text/html": [
       "<div>\n",
       "<table border=\"1\" class=\"dataframe\">\n",
       "  <thead>\n",
       "    <tr style=\"text-align: right;\">\n",
       "      <th></th>\n",
       "      <th>Country</th>\n",
       "      <th>Rank</th>\n",
       "      <th>gdp_per_capita</th>\n",
       "    </tr>\n",
       "  </thead>\n",
       "  <tbody>\n",
       "    <tr>\n",
       "      <th>0</th>\n",
       "      <td>Luxembourg</td>\n",
       "      <td>1</td>\n",
       "      <td>101,994</td>\n",
       "    </tr>\n",
       "    <tr>\n",
       "      <th>1</th>\n",
       "      <td>Switzerland</td>\n",
       "      <td>2</td>\n",
       "      <td>80,603</td>\n",
       "    </tr>\n",
       "    <tr>\n",
       "      <th>2</th>\n",
       "      <td>Norway</td>\n",
       "      <td>3</td>\n",
       "      <td>74,598</td>\n",
       "    </tr>\n",
       "    <tr>\n",
       "      <th>3</th>\n",
       "      <td>Qatar</td>\n",
       "      <td>4</td>\n",
       "      <td>68,940</td>\n",
       "    </tr>\n",
       "    <tr>\n",
       "      <th>4</th>\n",
       "      <td>Ireland</td>\n",
       "      <td>5</td>\n",
       "      <td>61,206</td>\n",
       "    </tr>\n",
       "  </tbody>\n",
       "</table>\n",
       "</div>"
      ],
      "text/plain": [
       "       Country Rank gdp_per_capita\n",
       "0   Luxembourg    1        101,994\n",
       "1  Switzerland    2         80,603\n",
       "2       Norway    3         74,598\n",
       "3        Qatar    4         68,940\n",
       "4      Ireland    5         61,206"
      ]
     },
     "execution_count": 230,
     "metadata": {},
     "output_type": "execute_result"
    }
   ],
   "source": [
    "gdp.head()"
   ]
  },
  {
   "cell_type": "code",
   "execution_count": 246,
   "metadata": {
    "collapsed": false
   },
   "outputs": [],
   "source": [
    "del gdp['Rank']"
   ]
  },
  {
   "cell_type": "code",
   "execution_count": 247,
   "metadata": {
    "collapsed": false
   },
   "outputs": [
    {
     "data": {
      "text/html": [
       "<div>\n",
       "<table border=\"1\" class=\"dataframe\">\n",
       "  <thead>\n",
       "    <tr style=\"text-align: right;\">\n",
       "      <th></th>\n",
       "      <th>Country</th>\n",
       "      <th>gdp_per_capita</th>\n",
       "    </tr>\n",
       "  </thead>\n",
       "  <tbody>\n",
       "    <tr>\n",
       "      <th>0</th>\n",
       "      <td>Luxembourg</td>\n",
       "      <td>101994</td>\n",
       "    </tr>\n",
       "    <tr>\n",
       "      <th>1</th>\n",
       "      <td>Switzerland</td>\n",
       "      <td>80603</td>\n",
       "    </tr>\n",
       "    <tr>\n",
       "      <th>2</th>\n",
       "      <td>Norway</td>\n",
       "      <td>74598</td>\n",
       "    </tr>\n",
       "    <tr>\n",
       "      <th>3</th>\n",
       "      <td>Qatar</td>\n",
       "      <td>68940</td>\n",
       "    </tr>\n",
       "    <tr>\n",
       "      <th>4</th>\n",
       "      <td>Ireland</td>\n",
       "      <td>61206</td>\n",
       "    </tr>\n",
       "  </tbody>\n",
       "</table>\n",
       "</div>"
      ],
      "text/plain": [
       "       Country gdp_per_capita\n",
       "0   Luxembourg         101994\n",
       "1  Switzerland          80603\n",
       "2       Norway          74598\n",
       "3        Qatar          68940\n",
       "4      Ireland          61206"
      ]
     },
     "execution_count": 247,
     "metadata": {},
     "output_type": "execute_result"
    }
   ],
   "source": [
    "gdp.head()"
   ]
  },
  {
   "cell_type": "code",
   "execution_count": 231,
   "metadata": {
    "collapsed": false
   },
   "outputs": [
    {
     "data": {
      "text/plain": [
       "count       189\n",
       "unique      188\n",
       "top       2,024\n",
       "freq          2\n",
       "Name: gdp_per_capita, dtype: object"
      ]
     },
     "execution_count": 231,
     "metadata": {},
     "output_type": "execute_result"
    }
   ],
   "source": [
    "gdp.gdp_per_capita.describe()"
   ]
  },
  {
   "cell_type": "code",
   "execution_count": 233,
   "metadata": {
    "collapsed": true
   },
   "outputs": [],
   "source": [
    "gdp = gdp.replace(to_replace=',', value='')"
   ]
  },
  {
   "cell_type": "code",
   "execution_count": 248,
   "metadata": {
    "collapsed": false
   },
   "outputs": [
    {
     "data": {
      "text/html": [
       "<div>\n",
       "<table border=\"1\" class=\"dataframe\">\n",
       "  <thead>\n",
       "    <tr style=\"text-align: right;\">\n",
       "      <th></th>\n",
       "      <th>Country</th>\n",
       "      <th>gdp_per_capita</th>\n",
       "    </tr>\n",
       "  </thead>\n",
       "  <tbody>\n",
       "    <tr>\n",
       "      <th>0</th>\n",
       "      <td>Luxembourg</td>\n",
       "      <td>101994</td>\n",
       "    </tr>\n",
       "    <tr>\n",
       "      <th>1</th>\n",
       "      <td>Switzerland</td>\n",
       "      <td>80603</td>\n",
       "    </tr>\n",
       "    <tr>\n",
       "      <th>2</th>\n",
       "      <td>Norway</td>\n",
       "      <td>74598</td>\n",
       "    </tr>\n",
       "    <tr>\n",
       "      <th>3</th>\n",
       "      <td>Qatar</td>\n",
       "      <td>68940</td>\n",
       "    </tr>\n",
       "    <tr>\n",
       "      <th>4</th>\n",
       "      <td>Ireland</td>\n",
       "      <td>61206</td>\n",
       "    </tr>\n",
       "    <tr>\n",
       "      <th>5</th>\n",
       "      <td>United States</td>\n",
       "      <td>56084</td>\n",
       "    </tr>\n",
       "    <tr>\n",
       "      <th>6</th>\n",
       "      <td>Singapore</td>\n",
       "      <td>52888</td>\n",
       "    </tr>\n",
       "    <tr>\n",
       "      <th>7</th>\n",
       "      <td>Denmark</td>\n",
       "      <td>52139</td>\n",
       "    </tr>\n",
       "    <tr>\n",
       "      <th>8</th>\n",
       "      <td>Australia</td>\n",
       "      <td>51181</td>\n",
       "    </tr>\n",
       "    <tr>\n",
       "      <th>9</th>\n",
       "      <td>Iceland</td>\n",
       "      <td>50277</td>\n",
       "    </tr>\n",
       "    <tr>\n",
       "      <th>10</th>\n",
       "      <td>Sweden</td>\n",
       "      <td>50050</td>\n",
       "    </tr>\n",
       "    <tr>\n",
       "      <th>11</th>\n",
       "      <td>San Marino</td>\n",
       "      <td>49615</td>\n",
       "    </tr>\n",
       "    <tr>\n",
       "      <th>12</th>\n",
       "      <td>United Kingdom</td>\n",
       "      <td>43902</td>\n",
       "    </tr>\n",
       "    <tr>\n",
       "      <th>13</th>\n",
       "      <td>Austria</td>\n",
       "      <td>43724</td>\n",
       "    </tr>\n",
       "    <tr>\n",
       "      <th>14</th>\n",
       "      <td>Netherlands</td>\n",
       "      <td>43603</td>\n",
       "    </tr>\n",
       "    <tr>\n",
       "      <th>15</th>\n",
       "      <td>Canada</td>\n",
       "      <td>43413</td>\n",
       "    </tr>\n",
       "    <tr>\n",
       "      <th>16</th>\n",
       "      <td>Finland</td>\n",
       "      <td>42413</td>\n",
       "    </tr>\n",
       "    <tr>\n",
       "      <th>17</th>\n",
       "      <td>Hong Kong</td>\n",
       "      <td>42295</td>\n",
       "    </tr>\n",
       "    <tr>\n",
       "      <th>18</th>\n",
       "      <td>Germany</td>\n",
       "      <td>40952</td>\n",
       "    </tr>\n",
       "  </tbody>\n",
       "</table>\n",
       "</div>"
      ],
      "text/plain": [
       "           Country gdp_per_capita\n",
       "0       Luxembourg         101994\n",
       "1      Switzerland          80603\n",
       "2           Norway          74598\n",
       "3            Qatar          68940\n",
       "4          Ireland          61206\n",
       "5    United States          56084\n",
       "6        Singapore          52888\n",
       "7          Denmark          52139\n",
       "8        Australia          51181\n",
       "9          Iceland          50277\n",
       "10          Sweden          50050\n",
       "11      San Marino          49615\n",
       "12  United Kingdom          43902\n",
       "13         Austria          43724\n",
       "14     Netherlands          43603\n",
       "15          Canada          43413\n",
       "16         Finland          42413\n",
       "17       Hong Kong          42295\n",
       "18         Germany          40952"
      ]
     },
     "execution_count": 248,
     "metadata": {},
     "output_type": "execute_result"
    }
   ],
   "source": [
    "gdp.head(19)"
   ]
  },
  {
   "cell_type": "code",
   "execution_count": 235,
   "metadata": {
    "collapsed": true
   },
   "outputs": [],
   "source": [
    "gdp['gdp_per_capita'] = gdp['gdp_per_capita'].apply(lambda x: re.sub(',','',x))"
   ]
  },
  {
   "cell_type": "code",
   "execution_count": 236,
   "metadata": {
    "collapsed": false
   },
   "outputs": [
    {
     "data": {
      "text/html": [
       "<div>\n",
       "<table border=\"1\" class=\"dataframe\">\n",
       "  <thead>\n",
       "    <tr style=\"text-align: right;\">\n",
       "      <th></th>\n",
       "      <th>Country</th>\n",
       "      <th>Rank</th>\n",
       "      <th>gdp_per_capita</th>\n",
       "    </tr>\n",
       "  </thead>\n",
       "  <tbody>\n",
       "    <tr>\n",
       "      <th>0</th>\n",
       "      <td>Luxembourg</td>\n",
       "      <td>1</td>\n",
       "      <td>101994</td>\n",
       "    </tr>\n",
       "    <tr>\n",
       "      <th>1</th>\n",
       "      <td>Switzerland</td>\n",
       "      <td>2</td>\n",
       "      <td>80603</td>\n",
       "    </tr>\n",
       "    <tr>\n",
       "      <th>2</th>\n",
       "      <td>Norway</td>\n",
       "      <td>3</td>\n",
       "      <td>74598</td>\n",
       "    </tr>\n",
       "    <tr>\n",
       "      <th>3</th>\n",
       "      <td>Qatar</td>\n",
       "      <td>4</td>\n",
       "      <td>68940</td>\n",
       "    </tr>\n",
       "    <tr>\n",
       "      <th>4</th>\n",
       "      <td>Ireland</td>\n",
       "      <td>5</td>\n",
       "      <td>61206</td>\n",
       "    </tr>\n",
       "  </tbody>\n",
       "</table>\n",
       "</div>"
      ],
      "text/plain": [
       "       Country Rank gdp_per_capita\n",
       "0   Luxembourg    1         101994\n",
       "1  Switzerland    2          80603\n",
       "2       Norway    3          74598\n",
       "3        Qatar    4          68940\n",
       "4      Ireland    5          61206"
      ]
     },
     "execution_count": 236,
     "metadata": {},
     "output_type": "execute_result"
    }
   ],
   "source": [
    "gdp.head()"
   ]
  },
  {
   "cell_type": "code",
   "execution_count": 240,
   "metadata": {
    "collapsed": false
   },
   "outputs": [
    {
     "data": {
      "text/plain": [
       "inf"
      ]
     },
     "execution_count": 240,
     "metadata": {},
     "output_type": "execute_result"
    }
   ],
   "source": [
    "gdp['gdp_per_capita'] = gdp['gdp_per_capita'].apply(lambda x: re.sub(',','',x))"
   ]
  },
  {
   "cell_type": "code",
   "execution_count": 249,
   "metadata": {
    "collapsed": false
   },
   "outputs": [],
   "source": [
    "gdp['gdp_per_capita'] = gdp['gdp_per_capita'].apply(pd.to_numeric)"
   ]
  },
  {
   "cell_type": "code",
   "execution_count": 250,
   "metadata": {
    "collapsed": false
   },
   "outputs": [
    {
     "data": {
      "text/html": [
       "<div>\n",
       "<table border=\"1\" class=\"dataframe\">\n",
       "  <thead>\n",
       "    <tr style=\"text-align: right;\">\n",
       "      <th></th>\n",
       "      <th>Country</th>\n",
       "      <th>gdp_per_capita</th>\n",
       "    </tr>\n",
       "  </thead>\n",
       "  <tbody>\n",
       "    <tr>\n",
       "      <th>0</th>\n",
       "      <td>Luxembourg</td>\n",
       "      <td>101994</td>\n",
       "    </tr>\n",
       "    <tr>\n",
       "      <th>1</th>\n",
       "      <td>Switzerland</td>\n",
       "      <td>80603</td>\n",
       "    </tr>\n",
       "    <tr>\n",
       "      <th>2</th>\n",
       "      <td>Norway</td>\n",
       "      <td>74598</td>\n",
       "    </tr>\n",
       "    <tr>\n",
       "      <th>3</th>\n",
       "      <td>Qatar</td>\n",
       "      <td>68940</td>\n",
       "    </tr>\n",
       "    <tr>\n",
       "      <th>4</th>\n",
       "      <td>Ireland</td>\n",
       "      <td>61206</td>\n",
       "    </tr>\n",
       "  </tbody>\n",
       "</table>\n",
       "</div>"
      ],
      "text/plain": [
       "       Country  gdp_per_capita\n",
       "0   Luxembourg          101994\n",
       "1  Switzerland           80603\n",
       "2       Norway           74598\n",
       "3        Qatar           68940\n",
       "4      Ireland           61206"
      ]
     },
     "execution_count": 250,
     "metadata": {},
     "output_type": "execute_result"
    }
   ],
   "source": [
    "gdp.head()"
   ]
  },
  {
   "cell_type": "code",
   "execution_count": 251,
   "metadata": {
    "collapsed": false
   },
   "outputs": [
    {
     "data": {
      "text/plain": [
       "12771.269841269841"
      ]
     },
     "execution_count": 251,
     "metadata": {},
     "output_type": "execute_result"
    }
   ],
   "source": [
    "gdp.gdp_per_capita.mean()"
   ]
  },
  {
   "cell_type": "code",
   "execution_count": 252,
   "metadata": {
    "collapsed": false
   },
   "outputs": [
    {
     "data": {
      "text/plain": [
       "count       189.000000\n",
       "mean      12771.269841\n",
       "std       17367.867582\n",
       "min         306.000000\n",
       "25%        1787.000000\n",
       "50%        5053.000000\n",
       "75%       15979.000000\n",
       "max      101994.000000\n",
       "Name: gdp_per_capita, dtype: float64"
      ]
     },
     "execution_count": 252,
     "metadata": {},
     "output_type": "execute_result"
    }
   ],
   "source": [
    "gdp.gdp_per_capita.describe()"
   ]
  },
  {
   "cell_type": "code",
   "execution_count": null,
   "metadata": {
    "collapsed": true
   },
   "outputs": [],
   "source": []
  }
 ],
 "metadata": {
  "anaconda-cloud": {},
  "kernelspec": {
   "display_name": "Python [conda root]",
   "language": "python",
   "name": "conda-root-py"
  },
  "language_info": {
   "codemirror_mode": {
    "name": "ipython",
    "version": 3
   },
   "file_extension": ".py",
   "mimetype": "text/x-python",
   "name": "python",
   "nbconvert_exporter": "python",
   "pygments_lexer": "ipython3",
   "version": "3.5.2"
  }
 },
 "nbformat": 4,
 "nbformat_minor": 2
}
